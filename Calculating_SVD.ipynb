{
 "cells": [
  {
   "cell_type": "code",
   "execution_count": 1,
   "metadata": {},
   "outputs": [],
   "source": [
    "# Calculating the SVD\n",
    "# Algorithm from Golub and Loan, Matrix Computations, 4th Edition Johns Hopkins University Press (2013)\n",
    "# 2 steps\n",
    "# 1. Bidiagonalization using Householder reflectors\n",
    "# 2. Reduction to diagonal form using Givens rotations\n",
    "import numpy as np"
   ]
  },
  {
   "cell_type": "code",
   "execution_count": 3,
   "metadata": {},
   "outputs": [],
   "source": [
    "\n",
    "def givens(a,b):\n",
    "    if b==0:\n",
    "        c = 1\n",
    "        s = 0\n",
    "    else:\n",
    "        if abs(b) > abs(a):\n",
    "            t = -a/b\n",
    "            s = 1/np.sqrt(1+t**2)\n",
    "            c = s*t\n",
    "        else:\n",
    "            t = -b/a\n",
    "            c = 1/np.sqrt(1+t**2)\n",
    "            s = c*t\n",
    "    return c,s"
   ]
  },
  {
   "cell_type": "code",
   "execution_count": 4,
   "metadata": {},
   "outputs": [
    {
     "name": "stdout",
     "output_type": "stream",
     "text": [
      "(3, 2)\n",
      "[[-1.  1.]\n",
      " [ 2. -2.]\n",
      " [-2.  4.]]\n"
     ]
    }
   ],
   "source": [
    "# Sample test matrix\n",
    "A = np.array([[-1.0,1.0],[2.0,-2.0],[-2.0,4.0]])\n",
    "              \n",
    "print(A.shape)\n",
    "print(A)"
   ]
  },
  {
   "cell_type": "code",
   "execution_count": 6,
   "metadata": {},
   "outputs": [
    {
     "name": "stdout",
     "output_type": "stream",
     "text": [
      "a1 shape  (3, 1)\n",
      "[[-1.]\n",
      " [ 2.]\n",
      " [-2.]]\n",
      "U1c shape  (3, 3)\n",
      "B1\n",
      "[[ 3.   -4.33]\n",
      " [ 0.    0.67]\n",
      " [-0.    1.33]]\n"
     ]
    }
   ],
   "source": [
    "# 1. step 1. Bidiagonalization\n",
    "a1 = A[:,0]\n",
    "a1 = np.reshape(a1,(3,1))\n",
    "print(\"a1 shape \",a1.shape)\n",
    "print(a1)\n",
    "c = np.linalg.norm(a1)\n",
    "e1 = np.array([[1.0],[0.0],[0.0]])\n",
    "#print(e1.shape)\n",
    "v = a1 - c*e1\n",
    "#print(\"v\", v)\n",
    "In = np.eye(3)\n",
    "#print(In)\n",
    "V = -2*np.dot(v,v.T)/(np.dot(v.T,v))\n",
    "#print(\"V shape \", V.shape)\n",
    "#print(V)\n",
    "U1c = In+V\n",
    "print(\"U1c shape \", U1c.shape)\n",
    "B1 = np.dot(U1c,A)\n",
    "print(\"B1\")\n",
    "print(B1.round(2))"
   ]
  },
  {
   "cell_type": "code",
   "execution_count": 7,
   "metadata": {},
   "outputs": [
    {
     "name": "stdout",
     "output_type": "stream",
     "text": [
      "U2c shape  (3, 3)\n",
      "[[ 3.   -4.33]\n",
      " [-0.    1.49]\n",
      " [ 0.    0.  ]]\n"
     ]
    }
   ],
   "source": [
    "\n",
    "a2= B1[1:,1]\n",
    "a2 = np.reshape(a2,(2,1))\n",
    "#print(a2)\n",
    "c2 = np.linalg.norm(a2)\n",
    "e1 = np.array([[1.0],[0.0]])\n",
    "v2 = a2 - c2*e1\n",
    "V2 = -2*np.dot(v2,v2.T)/(np.dot(v2.T,v2))\n",
    "In2 = np.eye(2)\n",
    "H2c = In2 + V2\n",
    "#print(H2c)\n",
    "U2c = np.eye(3)\n",
    "U2c[1:,1:] = H2c\n",
    "print(\"U2c shape \",U2c.shape)\n",
    "B2 = np.dot(U2c,B1)\n",
    "print(B2.round(2))"
   ]
  },
  {
   "cell_type": "code",
   "execution_count": 9,
   "metadata": {},
   "outputs": [
    {
     "name": "stdout",
     "output_type": "stream",
     "text": [
      "[[  9. -13.]\n",
      " [-13.  21.]]\n"
     ]
    }
   ],
   "source": [
    "T = np.dot(B2,B2.T)\n",
    "T11 = B2[0,0]**2 \n",
    "T12 = B2[0,0]*B2[0,1]\n",
    "T21 = T12\n",
    "T22 = B2[1,1]**2 + B2[0,1]**2\n",
    "Tmn = np.array([[T11, T12],[T21, T22]])\n",
    "print(Tmn)"
   ]
  },
  {
   "cell_type": "code",
   "execution_count": 10,
   "metadata": {},
   "outputs": [
    {
     "name": "stdout",
     "output_type": "stream",
     "text": [
      "a, b in G1  -20.31782106327635 -13.0  T11  9.0  le  29.31782106327635\n",
      "G1 first time\n",
      "[[ 0.84 -0.54]\n",
      " [ 0.54  0.84]]\n",
      "B3 \n",
      "[[ 0.19 -5.27]\n",
      " [ 0.8   1.26]]\n",
      "B4 \n",
      "[[-0.83  0.  ]\n",
      " [-0.   -5.41]]\n"
     ]
    }
   ],
   "source": [
    "# Step 2 apply Givens rotations to reduce to diagonal form\n",
    "\n",
    "we,ve = np.linalg.eig(Tmn)\n",
    "#print(\"eigenvalues \", we)\n",
    "#print(\" target \", T22)\n",
    "le= we[1]\n",
    "#print(\" eig \", le)\n",
    "a = T11 - le\n",
    "b = T12\n",
    "print(\"a, b in G1 \", a,b, \" T11 \", T11, \" le \", le)\n",
    "cg,sg = givens(a,b)\n",
    "#print(cg,sg)\n",
    "G1 = np.array([[cg,sg],[-sg,cg]])\n",
    "print(\"G1 first time\")\n",
    "print(G1.round(2))\n",
    "B2s = B2[:2,:]   # square matrix\n",
    "B3 = np.dot(B2s,G1)\n",
    "print(\"B3 \")\n",
    "print(B3.round(2))\n",
    "cg,sg = givens(B3[0,0],B3[1,0])\n",
    "G2 = np.array([[cg,-sg],[sg,cg]])\n",
    "B4 = np.dot(G2,B3)\n",
    "print(\"B4 \") # already hold the singular values\n",
    "print(B4.round(2))"
   ]
  },
  {
   "cell_type": "code",
   "execution_count": 11,
   "metadata": {},
   "outputs": [
    {
     "name": "stdout",
     "output_type": "stream",
     "text": [
      "G2e \n",
      "[[-0.23  0.97  0.  ]\n",
      " [-0.97 -0.23  0.  ]\n",
      " [ 0.    0.    1.  ]]\n"
     ]
    }
   ],
   "source": [
    "\n",
    "G2e = np.concatenate((G2,np.zeros((2,1))),axis=1)\n",
    "G2e = G2e.T\n",
    "onet = np.array([0,0,1])\n",
    "onet = np.reshape(onet,(3,1))\n",
    "\n",
    "G2e = np.concatenate((G2e,onet),axis=1)\n",
    "print(\"G2e \")\n",
    "print(G2e.round(2))\n",
    "Uc = np.dot(U2c.T,G2e)\n",
    "Uc = np.dot(U1c.T,Uc)"
   ]
  },
  {
   "cell_type": "code",
   "execution_count": 12,
   "metadata": {},
   "outputs": [
    {
     "name": "stdout",
     "output_type": "stream",
     "text": [
      "\n",
      "SVD of A \n",
      "U\n",
      "[[-0.26  0.37 -0.89]\n",
      " [ 0.51 -0.73 -0.45]\n",
      " [-0.82 -0.57 -0.  ]]\n",
      "U calculated \n",
      "[[ 0.37 -0.26  0.89]\n",
      " [-0.73  0.51  0.45]\n",
      " [-0.57 -0.82  0.  ]]\n",
      "[5.41 0.83]\n",
      "VT\n",
      "[[ 0.54 -0.84]\n",
      " [-0.84 -0.54]]\n",
      "G1\n",
      "[[ 0.84 -0.54]\n",
      " [ 0.54  0.84]]\n",
      "U1c \n",
      "[[-0.33  0.67 -0.67]\n",
      " [ 0.67  0.67  0.33]\n",
      " [-0.67  0.33  0.67]]\n"
     ]
    }
   ],
   "source": [
    "# check answer against numpy's SVD\n",
    "U,S,VT = np.linalg.svd(A)\n",
    "print()\n",
    "print(\"SVD of A \")\n",
    "print(\"U\")\n",
    "print(U.round(2))\n",
    "print(\"U calculated \")\n",
    "print(Uc.round(2))\n",
    "print(S.round(2))\n",
    "print(\"VT\")\n",
    "print(VT.round(2))\n",
    "print(\"G1\")\n",
    "print(G1.round(2))\n",
    "print(\"U1c \")\n",
    "print(U1c.round(2))"
   ]
  },
  {
   "cell_type": "code",
   "execution_count": 16,
   "metadata": {},
   "outputs": [
    {
     "name": "stdout",
     "output_type": "stream",
     "text": [
      "numpy.linalg singular values \n",
      "[5.41 0.83]\n",
      " computed singular values \n",
      "[[-0.83  0.  ]\n",
      " [-0.   -5.41]]\n"
     ]
    }
   ],
   "source": [
    "# Computations appear to agree well except for sign and order\n",
    "print(\"numpy.linalg singular values \")\n",
    "print(S.round(2))\n",
    "print(\" computed singular values \")\n",
    "print(B4.round(2))"
   ]
  }
 ],
 "metadata": {
  "kernelspec": {
   "display_name": "Python 3",
   "language": "python",
   "name": "python3"
  },
  "language_info": {
   "codemirror_mode": {
    "name": "ipython",
    "version": 3
   },
   "file_extension": ".py",
   "mimetype": "text/x-python",
   "name": "python",
   "nbconvert_exporter": "python",
   "pygments_lexer": "ipython3",
   "version": "3.7.1"
  }
 },
 "nbformat": 4,
 "nbformat_minor": 4
}
